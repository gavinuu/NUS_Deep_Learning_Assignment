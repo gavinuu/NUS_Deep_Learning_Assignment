{
 "cells": [
  {
   "cell_type": "code",
   "execution_count": 4,
   "id": "271863ec",
   "metadata": {},
   "outputs": [],
   "source": [
    "import os\n",
    "from typing import List\n",
    "from PIL import Image\n",
    "\n",
    "def get_filenames(input_dir: str) -> List[str]:\n",
    "    files = os.listdir(input_dir)\n",
    "    filenames = [f for f in files if os.path.isfile(f'{input_dir}/{f}')]\n",
    "        \n",
    "    return filenames\n",
    "\n",
    "def check_and_remove_corrupted_image(file_path):\n",
    "    try:\n",
    "        with Image.open(file_path) as img:\n",
    "            img.verify()  # Verify the image file integrity\n",
    "        return False  # Image is not corrupted\n",
    "    except (IOError, SyntaxError) as e:\n",
    "        print(f\"Removing corrupted image: {file_path} - {e}\")\n",
    "        os.remove(file_path)  # Remove corrupted image file\n",
    "        return True  # Image was corrupted and removed\n",
    "            \n",
    "def scan_and_clean_directory(directory):\n",
    "    for root, dirs, files in os.walk(directory):\n",
    "        for file in files:\n",
    "            file_path = os.path.join(root, file)\n",
    "            check_and_remove_corrupted_image(file_path)"
   ]
  },
  {
   "cell_type": "code",
   "execution_count": 6,
   "id": "3218b40a",
   "metadata": {},
   "outputs": [],
   "source": [
    "scan_and_clean_directory('imgs/raw')"
   ]
  }
 ],
 "metadata": {
  "kernelspec": {
   "display_name": "cloud",
   "language": "python",
   "name": "python3"
  },
  "language_info": {
   "codemirror_mode": {
    "name": "ipython",
    "version": 3
   },
   "file_extension": ".py",
   "mimetype": "text/x-python",
   "name": "python",
   "nbconvert_exporter": "python",
   "pygments_lexer": "ipython3",
   "version": "3.8.20"
  }
 },
 "nbformat": 4,
 "nbformat_minor": 5
}
