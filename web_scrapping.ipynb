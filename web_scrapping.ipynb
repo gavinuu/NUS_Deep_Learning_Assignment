{
 "cells": [
  {
   "cell_type": "code",
   "execution_count": null,
   "id": "78a9583e",
   "metadata": {},
   "outputs": [],
   "source": [
    "import os\n",
    "import requests\n",
    "from datetime import datetime, timedelta\n",
    "\n",
    "\n",
    "def download_images(\n",
    "        start_date  : str, \n",
    "        end_date    : str,\n",
    "        output_dir  : str) -> None:\n",
    "    \"\"\"\n",
    "    Downloads satellite images from NEA from start_date to end_date (inclusive).\n",
    "    \n",
    "    Args:\n",
    "        start_date (str): Format 'YYYY-MM-DD'\n",
    "        end_date (str): Format 'YYYY-MM-DD'\n",
    "        output_dir (str): Directory to save images\n",
    "    Returns:\n",
    "        None\n",
    "    \"\"\"\n",
    "    #NEA website main url \n",
    "    url_main = 'https://www.nea.gov.sg/docs/default-source/satelliteimage/BlueMarbleASEAN_'\n",
    "    \n",
    "    #Set start time\n",
    "    start_time = '0000'\n",
    "    start_str = start_date + '_' + start_time\n",
    "    start = datetime.strptime(start_str, '%Y%m%d_%H%M')\n",
    "    \n",
    "    #Set end time\n",
    "    end_time = '2340'\n",
    "    end_str = end_date + '_' + end_time\n",
    "    end = datetime.strptime(end_str, '%Y%m%d_%H%M')\n",
    "    \n",
    "    #increment period (20min)\n",
    "    twenty_min = timedelta(minutes = 20)\n",
    "    \n",
    "    while end >= start:\n",
    "        #get full url for img\n",
    "        url_date_time = datetime.strftime(start, '%Y%m%d_%H%M')\n",
    "        url_full = url_main + url_date_time + '.jpg'\n",
    "        data = requests.get(url_full).content\n",
    "        \n",
    "        #create img file        \n",
    "        file = open(f'{output_dir}/img_{url_date_time}.jpg', 'wb')\n",
    "        file.write(data)\n",
    "        file.close()\n",
    "        print(f'img for {url_date_time} downloaded in {output_dir}')\n",
    "        \n",
    "        #increment start time by 20min for next img url\n",
    "        start += twenty_min\n",
    "    "
   ]
  },
  {
   "cell_type": "code",
   "execution_count": null,
   "id": "6d940297",
   "metadata": {},
   "outputs": [],
   "source": [
    "download_images('20250312', '20250422', 'imgs/raw') #create folder named 'raw' in 'imgs' dir"
   ]
  }
 ],
 "metadata": {
  "kernelspec": {
   "display_name": "cloud",
   "language": "python",
   "name": "python3"
  },
  "language_info": {
   "codemirror_mode": {
    "name": "ipython",
    "version": 3
   },
   "file_extension": ".py",
   "mimetype": "text/x-python",
   "name": "python",
   "nbconvert_exporter": "python",
   "pygments_lexer": "ipython3",
   "version": "3.8.20"
  }
 },
 "nbformat": 4,
 "nbformat_minor": 5
}
